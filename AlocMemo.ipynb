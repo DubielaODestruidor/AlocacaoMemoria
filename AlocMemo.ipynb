{
 "cells": [
  {
   "cell_type": "code",
   "execution_count": 8,
   "id": "88af1f8d",
   "metadata": {},
   "outputs": [],
   "source": [
    "import numpy as np\n",
    "import numpy.ma as ma"
   ]
  },
  {
   "cell_type": "code",
   "execution_count": 9,
   "id": "293601ab",
   "metadata": {},
   "outputs": [
    {
     "name": "stdout",
     "output_type": "stream",
     "text": [
      "Problema ao alocar: 3\n",
      "Posição: 5\n",
      "Alocação Final: [1 1 0 2]\n"
     ]
    }
   ],
   "source": [
    "# First-Fit \n",
    "\n",
    "processo = np.array([2, 3, 1, 4, 2, 3, 1])\n",
    "espaco = np.array([4, 4, 4, 4])\n",
    "a = 0\n",
    "b = 0\n",
    "c = 0\n",
    "\n",
    "while a < 4:\n",
    "    # Debug ↓\n",
    "    # print(espaco, espaco[a], processo[b])\n",
    "    if processo[b] <= espaco[a]:\n",
    "        espaco[a] -= processo[b]\n",
    "        a = 0\n",
    "        b += 1\n",
    "        c += 1\n",
    "        if b >= processo.size:\n",
    "            break\n",
    "    elif a == 3 and processo[b] != 0:\n",
    "        print(\"Problema ao alocar:\", processo[b])\n",
    "        print(\"Posição:\", c)\n",
    "        break\n",
    "    else:\n",
    "        a += 1\n",
    "print(\"Alocação Final:\", espaco)"
   ]
  },
  {
   "cell_type": "code",
   "execution_count": 6,
   "id": "52178170",
   "metadata": {},
   "outputs": [
    {
     "name": "stdout",
     "output_type": "stream",
     "text": [
      "[4 4 4 4] 4 2\n",
      "1\n",
      "2\n",
      "3\n",
      "4\n",
      "[2 4 4 4] 2 3\n",
      "[-- 4 4 4]\n",
      "1\n",
      "2\n",
      "3\n",
      "4\n",
      "[2 1 4 4] 1 1\n",
      "1\n",
      "2\n",
      "3\n",
      "4\n",
      "[2 0 4 4] 0 2\n",
      "[2 -- 4 4]\n",
      "1\n",
      "2\n",
      "3\n",
      "4\n",
      "[0 0 4 4] 0 2\n",
      "[-- -- 4 4]\n",
      "1\n",
      "2\n",
      "3\n",
      "4\n",
      "[0 0 2 4] 0 3\n",
      "[-- -- 2 4]\n",
      "[-- -- -- 4]\n",
      "1\n",
      "2\n",
      "3\n",
      "4\n",
      "[0 0 2 1] 0 2\n",
      "[-- -- 2 1]\n",
      "[-- -- 2 --]\n",
      "1\n",
      "2\n",
      "3\n",
      "4\n",
      "[0 0 0 1] 0 2\n",
      "[-- -- -- 1]\n",
      "[-- -- -- --]\n",
      "-2\n",
      "Erro na alocação de 2\n",
      "Posição de memória: 1\n",
      "[-2  0  0  1]\n"
     ]
    }
   ],
   "source": [
    "# Best-Fit\n",
    "\n",
    "# x = espaco, y = processo, z = menor valor do espaco\n",
    "def menorEspaco(x, y, z):\n",
    "    espaco_mask = ma.masked_where(x <= y, x)\n",
    "    print(espaco_mask)\n",
    "#     print(np.min(espaco_mask))\n",
    "    if np.min(espaco_mask) < z:\n",
    "        return menorEspaco(espaco_mask, np.min(espaco_mask), z)\n",
    "    if np.max(espaco_mask) < z:\n",
    "        return ([-1, -1, -1, -1])\n",
    "    return (espaco_mask)\n",
    "\n",
    "processo = np.array([2, 3, 1, 2, 2, 3, 2, 2])\n",
    "espaco = np.array([4, 4, 4, 4])\n",
    "m = 0\n",
    "    \n",
    "for a in range (processo.size):\n",
    "    print(espaco, np.min(espaco), processo[a])\n",
    "    if processo[a] <= np.min(espaco):\n",
    "        c = np.argmin(espaco)\n",
    "        espaco[c] -= processo[a]\n",
    "        m = 0\n",
    "    else:\n",
    "        espaco2 = menorEspaco(espaco, np.min(espaco), processo[a])\n",
    "        c = np.argmin(espaco2)\n",
    "        espaco[c] -= processo[a]\n",
    "        m = 0\n",
    "    for item in espaco:\n",
    "        m += 1\n",
    "        if item < 0:\n",
    "            print(item)\n",
    "            print(\"Erro na alocação de\", processo[a])\n",
    "            print(\"Posição de memória:\", m)\n",
    "            break\n",
    "        print(m)\n",
    "\n",
    "print(espaco)"
   ]
  },
  {
   "cell_type": "code",
   "execution_count": null,
   "id": "ea6f5737",
   "metadata": {},
   "outputs": [],
   "source": [
    "#loop worst-fit\n",
    "maior = espaco[0]\n",
    "print(maior)\n",
    "for x in range(espaco.size-1, -1, -1):\n",
    "    if espaco[x] > maior:\n",
    "        maior = espaco[x]\n",
    "        posicao = x\n",
    "print(maior, posicao)"
   ]
  },
  {
   "cell_type": "code",
   "execution_count": 23,
   "id": "8c50a792",
   "metadata": {
    "scrolled": true
   },
   "outputs": [
    {
     "name": "stdout",
     "output_type": "stream",
     "text": [
      "np.min(espaco): 1\n",
      "Posição do menor valor no vetor: 2\n",
      "Tamanho do menor valor de memória: 1\n",
      "[4 3 -- 11]\n",
      "3\n",
      "[4 -- -- 11]\n",
      "4\n",
      "[-- -- -- 11]\n",
      "11\n",
      "[-- -- -- 11] 4\n"
     ]
    },
    {
     "data": {
      "text/plain": [
       "3"
      ]
     },
     "metadata": {},
     "output_type": "display_data"
    }
   ],
   "source": [
    "espaco = np.array([4, 3, 1, 11])\n",
    "\n",
    "espaco_mask = ma.masked_equal(espaco, np.min(espaco))\n",
    "\n",
    "c = np.argmin(espaco)\n",
    "# display(np.argmin(espaco))\n",
    "print(\"np.min(espaco):\", np.min(espaco))\n",
    "print(\"Posição do menor valor no vetor:\", c)\n",
    "print(\"Tamanho do menor valor de memória:\", espaco[c])\n",
    "\n",
    "def menorEspaco(x, y, z):\n",
    "    espaco_mask = ma.masked_where(x <= y, x)\n",
    "    print(espaco_mask)\n",
    "    print(np.min(espaco_mask))\n",
    "    if np.min(espaco_mask) < z:\n",
    "        return menorEspaco(espaco_mask, np.min(espaco_mask), z)\n",
    "    return (espaco_mask)\n",
    "\n",
    "espaco2 = menorEspaco(espaco, np.min(espaco), 11)\n",
    "print(espaco2, espaco2.size)\n",
    "\n",
    "a = np.argmin(espaco2)\n",
    "display(a)"
   ]
  }
 ],
 "metadata": {
  "interpreter": {
   "hash": "63fd5069d213b44bf678585dea6b12cceca9941eaf7f819626cde1f2670de90d"
  },
  "kernelspec": {
   "display_name": "Python 3",
   "language": "python",
   "name": "python3"
  },
  "language_info": {
   "codemirror_mode": {
    "name": "ipython",
    "version": 3
   },
   "file_extension": ".py",
   "mimetype": "text/x-python",
   "name": "python",
   "nbconvert_exporter": "python",
   "pygments_lexer": "ipython3",
   "version": "3.8.8"
  }
 },
 "nbformat": 4,
 "nbformat_minor": 5
}
