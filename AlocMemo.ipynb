{
 "cells": [
  {
   "cell_type": "code",
   "execution_count": 1,
   "id": "dd6cdd56",
   "metadata": {},
   "outputs": [],
   "source": [
    "import numpy as np"
   ]
  },
  {
   "cell_type": "code",
   "execution_count": 96,
   "id": "2a12e92c",
   "metadata": {},
   "outputs": [],
   "source": [
    "processo = np.array([3, 3, 3, 3, 1, 1, 1, 2])\n",
    "espaco = np.array([4, 4, 4, 4])"
   ]
  },
  {
   "cell_type": "code",
   "execution_count": 97,
   "id": "88e91e8e",
   "metadata": {},
   "outputs": [
    {
     "name": "stdout",
     "output_type": "stream",
     "text": [
      "[4 4 4 4] 4 3\n",
      "[1 4 4 4] 1 3\n",
      "[1 4 4 4] 4 3\n",
      "[1 1 4 4] 1 3\n",
      "[1 1 4 4] 1 3\n",
      "[1 1 4 4] 4 3\n",
      "[1 1 1 4] 1 3\n",
      "[1 1 1 4] 1 3\n",
      "[1 1 1 4] 1 3\n",
      "[1 1 1 4] 4 3\n",
      "[1 1 1 1] 1 1\n",
      "[0 1 1 1] 0 1\n",
      "[0 1 1 1] 1 1\n",
      "[0 0 1 1] 0 1\n",
      "[0 0 1 1] 0 1\n",
      "[0 0 1 1] 1 1\n",
      "[0 0 0 1] 0 2\n",
      "[0 0 0 1] 0 2\n",
      "[0 0 0 1] 0 2\n",
      "[0 0 0 1] 1 2\n",
      "Problema ao alocar:  2\n",
      "Posição do elemento: 7\n",
      "Alocação Final: [0 0 0 1]\n"
     ]
    }
   ],
   "source": [
    "# First Fit\n",
    "\n",
    "a = 0\n",
    "b = 0\n",
    "\n",
    "while a < 4:\n",
    "    # Debug ↓\n",
    "    print(espaco, espaco[a], processo[b])\n",
    "    if espaco[a] >= processo[b]:\n",
    "        espaco[a] -= processo[b]\n",
    "        b += 1\n",
    "        a = 0\n",
    "        if b >= processo.size:\n",
    "            break\n",
    "    elif a == 3 and processo[b] != 0:\n",
    "        print(\"Problema ao alocar: \", processo[b])\n",
    "        print(\"Posição do elemento:\", list(processo).index(processo[b]))\n",
    "        break\n",
    "    else:\n",
    "        a += 1\n",
    "print(\"Alocação Final:\", espaco)"
   ]
  },
  {
   "cell_type": "code",
   "execution_count": null,
   "id": "9fda331a",
   "metadata": {},
   "outputs": [],
   "source": [
    "# Best Fit\n",
    "\n",
    "a = 0\n",
    "b = 0\n",
    "\n",
    "while a < 4:\n",
    "    # Debug ↓\n",
    "    print(espaco, espaco[a], processo[b], np.max(espaco), list(espaco).index(np.max(espaco)))\n",
    "    a += 1"
   ]
  },
  {
   "cell_type": "code",
   "execution_count": 88,
   "id": "a07ccd02",
   "metadata": {},
   "outputs": [
    {
     "name": "stdout",
     "output_type": "stream",
     "text": [
      "[1 1 1 1]\n"
     ]
    }
   ],
   "source": [
    "teste = np.array([50, 25, 13, 2])\n",
    "list(teste).index(np.max(teste))"
   ]
  }
 ],
 "metadata": {
  "kernelspec": {
   "display_name": "Python 3 (ipykernel)",
   "language": "python",
   "name": "python3"
  },
  "language_info": {
   "codemirror_mode": {
    "name": "ipython",
    "version": 3
   },
   "file_extension": ".py",
   "mimetype": "text/x-python",
   "name": "python",
   "nbconvert_exporter": "python",
   "pygments_lexer": "ipython3",
   "version": "3.8.8"
  }
 },
 "nbformat": 4,
 "nbformat_minor": 5
}
