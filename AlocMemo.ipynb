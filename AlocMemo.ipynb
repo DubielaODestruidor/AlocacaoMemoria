{
 "cells": [
  {
   "cell_type": "code",
   "execution_count": 1,
   "id": "88af1f8d",
   "metadata": {},
   "outputs": [],
   "source": [
    "import numpy as np\n",
    "import numpy.ma as ma"
   ]
  },
  {
   "cell_type": "code",
   "execution_count": 109,
   "id": "293601ab",
   "metadata": {},
   "outputs": [
    {
     "name": "stdout",
     "output_type": "stream",
     "text": [
      "[4 4 4 4] 4 2\n",
      "[2 4 4 4] 2 3\n",
      "[2 4 4 4] 4 3\n",
      "[2 1 4 4] 2 1\n",
      "[1 1 4 4] 1 4\n",
      "[1 1 4 4] 1 4\n",
      "[1 1 4 4] 4 4\n",
      "[1 1 0 4] 1 2\n",
      "[1 1 0 4] 1 2\n",
      "[1 1 0 4] 0 2\n",
      "[1 1 0 4] 4 2\n",
      "[1 1 0 2] 1 2\n",
      "[1 1 0 2] 1 2\n",
      "[1 1 0 2] 0 2\n",
      "[1 1 0 2] 2 2\n",
      "[1 1 0 0] 1 1\n",
      "Alocação final: [0 1 0 0]\n"
     ]
    }
   ],
   "source": [
    "# First-Fit \n",
    "\n",
    "processo = np.array([2, 3, 1, 4, 2, 2, 1])\n",
    "espaco = np.array([4, 4, 4, 4])\n",
    "a = 0 # Navegar pelo espaço/memória\n",
    "b = 0 # Navegar pelos processos\n",
    "c = 0 # Contador para mostrar posição do processo que teve problema ao ser alocado\n",
    "\n",
    "while a < espaco.size:\n",
    "    # Debug ↓\n",
    "    print(espaco, espaco[a], processo[b])\n",
    "    if processo[b] <= espaco[a]:\n",
    "        espaco[a] -= processo[b]\n",
    "        a = 0\n",
    "        b += 1\n",
    "        c += 1\n",
    "        if b >= processo.size:\n",
    "            break\n",
    "    elif a == 3 and processo[b] > 0:\n",
    "        print(\"Problema ao alocar:\", processo[b])\n",
    "        print(\"Posição:\", c)\n",
    "        break\n",
    "    else:\n",
    "        a += 1\n",
    "print(\"Alocação final:\", espaco)"
   ]
  },
  {
   "cell_type": "code",
   "execution_count": 93,
   "id": "cae681e7",
   "metadata": {},
   "outputs": [],
   "source": [
    "def menorEspaco(x, y, z):\n",
    "    ''' \n",
    "        x = espaco, y = processo, z = menor valor do espaco \n",
    "        Cria uma máscara do vetor, até o menor valor do vetor criado tenha tamanho suficiente para alocar o processo.\n",
    "        Retorna um vetor mascara\n",
    "    '''\n",
    "    espaco_mask = ma.masked_where(x <= y, x)\n",
    "    print(espaco_mask, np.min(espaco_mask))\n",
    "    if np.min(espaco_mask) < z:\n",
    "        return menorEspaco(espaco_mask, np.min(espaco_mask), z)\n",
    "    return (espaco_mask)"
   ]
  },
  {
   "cell_type": "code",
   "execution_count": 94,
   "id": "52178170",
   "metadata": {},
   "outputs": [
    {
     "name": "stdout",
     "output_type": "stream",
     "text": [
      "[-- 4 4 4] 4\n",
      "[2 -- 4 4] 2\n",
      "[-- -- 4 4] 4\n",
      "[2 -- -- 4] 2\n",
      "[-- -- -- 4] 4\n",
      "[2 -- -- 1] 1\n",
      "[2 -- -- --] 2\n",
      "[-- -- -- 1] 1\n",
      "Alocação final: [0 0 0 0]\n"
     ]
    }
   ],
   "source": [
    "# Best-Fit\n",
    "processo = np.array([2, 3, 1, 4, 3, 2, 1])\n",
    "espaco = np.array([4, 4, 4, 4])\n",
    "b = 0 # Navegar pelos processos\n",
    "\n",
    "for a in range (processo.size):\n",
    "    # Debug ↓\n",
    "    # print(espaco, np.min(espaco), processo[a])\n",
    "    if processo[a] <= np.min(espaco):\n",
    "        c = np.argmin(espaco)\n",
    "        espaco[c] -= processo[a]\n",
    "    else:\n",
    "        espaco2 = menorEspaco(espaco, np.min(espaco), processo[a])\n",
    "        c = np.argmin(espaco2)\n",
    "        espaco[c] -= processo[a]\n",
    "    for item in espaco:\n",
    "        if item < 0:\n",
    "            # Caso o primeiro valor do vetor seja negativo, é porque a função\n",
    "            # menorEspaco não conseguiu um valor de tamanho suficiente para alocar o processo\n",
    "            print(\"Erro na alocação de:\", processo[a])\n",
    "            print(\"Posição:\", b)\n",
    "            break\n",
    "    b += 1\n",
    "print(\"Alocação final:\", espaco)"
   ]
  },
  {
   "cell_type": "code",
   "execution_count": 101,
   "id": "311f6e58",
   "metadata": {
    "scrolled": true
   },
   "outputs": [
    {
     "name": "stdout",
     "output_type": "stream",
     "text": [
      "[4 4 4 4] 4 2\n",
      "[2 4 4 4] 4 3\n",
      "[2 1 4 4] 4 1\n",
      "[2 1 3 4] 4 4\n",
      "[2 1 3 0] 3 2\n",
      "[2 1 1 0] 2 2\n",
      "[0 1 1 0] 1 1\n",
      "Alocação final: [0 0 1 0]\n"
     ]
    }
   ],
   "source": [
    "# Worst-Fit\n",
    "processo = np.array([2, 3, 1, 4, 2, 2, 1])\n",
    "espaco = np.array([4, 4, 4, 4])\n",
    "b = 0 # Navegar pelos processos\n",
    "    \n",
    "for a in range (processo.size):\n",
    "    # Debug ↓\n",
    "    print(espaco, np.max(espaco), processo[a])\n",
    "    if processo[a] <= np.max(espaco):\n",
    "        c = np.argmax(espaco)\n",
    "        espaco[c] -= processo[a]\n",
    "        b += 1\n",
    "    else:\n",
    "        print(\"Erro na alocação de:\", processo[a])\n",
    "        print(\"Posição:\", b)\n",
    "        break\n",
    "print(\"Alocação final:\", espaco)"
   ]
  },
  {
   "cell_type": "code",
   "execution_count": 3,
   "id": "cc22b325",
   "metadata": {},
   "outputs": [],
   "source": [
    "def procura(posicao, tam):\n",
    "    if posicao == tam-1:\n",
    "        return 0\n",
    "    else:\n",
    "        posicao += 1\n",
    "        return posicao"
   ]
  },
  {
   "cell_type": "code",
   "execution_count": 5,
   "id": "0458c71f",
   "metadata": {},
   "outputs": [
    {
     "name": "stdout",
     "output_type": "stream",
     "text": [
      "[4 4 4 4] 4 2\n",
      "[2 4 4 4] 4 3\n",
      "[2 1 4 4] 4 1\n",
      "[2 1 3 4] 4 4\n",
      "[2 1 3 0] 2 2\n",
      "[0 1 3 0] 1 2\n",
      "[0 1 3 0] 3 2\n",
      "[0 1 1 0] 0 1\n",
      "[0 1 1 0] 0 1\n",
      "[0 1 1 0] 1 1\n",
      "Alocação final: [0 0 1 0]\n"
     ]
    }
   ],
   "source": [
    "# Circular-Fit\n",
    "processo = np.array([2, 3, 1, 4, 2, 2, 1])\n",
    "espaco = np.array([4, 4, 4, 4])\n",
    "a = 0 # Navegar pelo espaço/memória\n",
    "b = 0 # Navegar pelos processos\n",
    "c = 0 # Contador para mostrar posição do processo que teve problema ao ser alocado\n",
    "aux = 0\n",
    "while a < espaco.size:\n",
    "    # Debug ↓\n",
    "    print(espaco, espaco[a], processo[b])\n",
    "    if processo[b] <= espaco[a]:\n",
    "        espaco[a] -= processo[b]\n",
    "        #a = 0\n",
    "        b += 1\n",
    "        c += 1\n",
    "        a = procura(a, espaco.size)\n",
    "        if b >= processo.size:\n",
    "            break\n",
    "    elif a == 3 and processo[b] > 1:\n",
    "        print(\"Problema ao alocar:\", processo[b])\n",
    "        print(\"Posição:\", c)\n",
    "        break\n",
    "    else:\n",
    "        a = procura(a, espaco.size)\n",
    "print(\"Alocação final:\", espaco)"
   ]
  }
 ],
 "metadata": {
  "interpreter": {
   "hash": "63fd5069d213b44bf678585dea6b12cceca9941eaf7f819626cde1f2670de90d"
  },
  "kernelspec": {
   "display_name": "Python 3.9.5 64-bit",
   "name": "python3"
  },
  "language_info": {
   "codemirror_mode": {
    "name": "ipython",
    "version": 3
   },
   "file_extension": ".py",
   "mimetype": "text/x-python",
   "name": "python",
   "nbconvert_exporter": "python",
   "pygments_lexer": "ipython3",
   "version": "3.9.5"
  }
 },
 "nbformat": 4,
 "nbformat_minor": 5
}
