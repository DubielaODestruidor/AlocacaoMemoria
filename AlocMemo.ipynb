{
 "cells": [
  {
   "cell_type": "code",
   "execution_count": 1,
   "id": "dd6cdd56",
   "metadata": {},
   "outputs": [],
   "source": [
    "import numpy as np"
   ]
  },
  {
   "cell_type": "code",
   "execution_count": 42,
   "id": "2a12e92c",
   "metadata": {},
   "outputs": [],
   "source": [
    "processo = np.array([2, 3, 1, 4, 2, 3, 1])\n",
    "espaco = np.array([4, 4, 4, 1])"
   ]
  },
  {
   "cell_type": "code",
   "execution_count": 27,
   "id": "88e91e8e",
   "metadata": {},
   "outputs": [
    {
     "name": "stdout",
     "output_type": "stream",
     "text": [
      "[4 4 4 4] 4 2\n",
      "[2 4 4 4] 2 3\n",
      "[2 4 4 4] 4 3\n",
      "[2 1 4 4] 2 1\n",
      "[1 1 4 4] 1 4\n",
      "[1 1 4 4] 1 4\n",
      "[1 1 4 4] 4 4\n",
      "[1 1 0 4] 1 2\n",
      "[1 1 0 4] 1 2\n",
      "[1 1 0 4] 0 2\n",
      "[1 1 0 4] 4 2\n",
      "[1 1 0 2] 1 3\n",
      "[1 1 0 2] 1 3\n",
      "[1 1 0 2] 0 3\n",
      "[1 1 0 2] 2 3\n",
      "Problema ao alocar:  3\n",
      "Posição do elemento: 1\n",
      "Alocação Final: [1 1 0 2]\n"
     ]
    }
   ],
   "source": [
    "# First Fit\n",
    "\n",
    "a = 0\n",
    "b = 0\n",
    "\n",
    "while a < 4:\n",
    "    # Debug ↓\n",
    "    print(espaco, espaco[a], processo[b])\n",
    "    if espaco[a] >= processo[b]:\n",
    "        espaco[a] -= processo[b]\n",
    "        b += 1\n",
    "        a = 0\n",
    "        if b >= processo.size:\n",
    "            break\n",
    "    elif a == 3 and processo[b] != 0:\n",
    "        print(\"Problema ao alocar: \", processo[b])\n",
    "        print(\"Posição do elemento:\", list(processo).index(processo[b]))\n",
    "        break\n",
    "    else:\n",
    "        a += 1\n",
    "print(\"Alocação Final:\", espaco)"
   ]
  },
  {
   "cell_type": "code",
   "execution_count": 15,
   "id": "9fda331a",
   "metadata": {},
   "outputs": [
    {
     "name": "stdout",
     "output_type": "stream",
     "text": [
      "[1 1 0 0] 1 2 1 0\n",
      "[1 1 0 0] 1 2 1 0\n",
      "[1 1 0 0] 0 2 1 0\n",
      "[1 1 0 0] 0 2 1 0\n"
     ]
    }
   ],
   "source": [
    "# Best Fit\n",
    "\n",
    "a = 0\n",
    "b = 0\n",
    "\n",
    "while a < 4:\n",
    "    # Debug ↓\n",
    "    print(espaco, espaco[a], processo[b], np.max(espaco), list(espaco).index(np.max(espaco)))\n",
    "    a += 1"
   ]
  },
  {
   "cell_type": "code",
   "execution_count": 47,
   "id": "c9cdb39e",
   "metadata": {},
   "outputs": [
    {
     "name": "stdout",
     "output_type": "stream",
     "text": [
      "4\n",
      "4 3\n"
     ]
    }
   ],
   "source": [
    "#loop worst-fit\n",
    "maior = espaco[0]\n",
    "print(maior)\n",
    "for x in range(espaco.size-1, -1, -1):\n",
    "    print\n",
    "    if espaco[x] > maior:\n",
    "        maior = espaco[x]\n",
    "        posicao = x\n",
    "print(maior, posicao)"
   ]
  },
  {
   "cell_type": "code",
   "execution_count": 50,
   "id": "1e952020",
   "metadata": {},
   "outputs": [
    {
     "name": "stdout",
     "output_type": "stream",
     "text": [
      "4\n",
      "1 3\n"
     ]
    }
   ],
   "source": [
    "#loop best-fit\n",
    "menor = espaco[0]\n",
    "print(maior)\n",
    "for x in range(espaco.size):\n",
    "    if espaco[x] < menor:\n",
    "        menor = espaco[x]\n",
    "        posicao = x\n",
    "print(menor, posicao)"
   ]
  },
  {
   "cell_type": "markdown",
   "id": "c2bec7af",
   "metadata": {},
   "source": [
    "primeira iteracao\n",
    "n = 0\n",
    "armazena = posicao\n",
    "if aux < sobra\n",
    "espaco[0] sobra 2\n",
    "sobra = aux\n",
    "espaco[1] sobra 1\n",
    "espaco[2] sobra 0\n",
    "espaco[3] sobra 0"
   ]
  },
  {
   "cell_type": "code",
   "execution_count": 88,
   "id": "a07ccd02",
   "metadata": {},
   "outputs": [
    {
     "name": "stdout",
     "output_type": "stream",
     "text": [
      "[1 1 1 1]\n"
     ]
    }
   ],
   "source": [
    "teste = np.array([50, 25, 13, 2])\n",
    "list(teste).index(np.max(teste))"
   ]
  }
 ],
 "metadata": {
  "kernelspec": {
   "display_name": "Python 3",
   "language": "python",
   "name": "python3"
  },
  "language_info": {
   "codemirror_mode": {
    "name": "ipython",
    "version": 3
   },
   "file_extension": ".py",
   "mimetype": "text/x-python",
   "name": "python",
   "nbconvert_exporter": "python",
   "pygments_lexer": "ipython3",
   "version": "3.8.8"
  }
 },
 "nbformat": 4,
 "nbformat_minor": 5
}
