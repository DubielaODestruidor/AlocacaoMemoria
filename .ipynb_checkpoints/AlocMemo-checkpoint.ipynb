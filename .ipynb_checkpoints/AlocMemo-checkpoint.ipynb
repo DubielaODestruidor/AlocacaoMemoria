{
 "cells": [
  {
   "cell_type": "code",
   "execution_count": 1,
   "id": "88af1f8d",
   "metadata": {},
   "outputs": [],
   "source": [
    "import numpy as np\n",
    "import numpy.ma as ma"
   ]
  },
  {
   "cell_type": "code",
   "execution_count": null,
   "id": "293601ab",
   "metadata": {},
   "outputs": [],
   "source": [
    "# First-Fit \n",
    "\n",
    "processo = np.array([2, 3, 1, 4, 2, 2, 1, 2])\n",
    "espaco = np.array([4, 4, 4, 4])\n",
    "a = 0 # Navegar pelo espaço/memória\n",
    "b = 0 # Navegar pelos processos\n",
    "c = 0 # Contador para mostrar posição do processo que teve problema ao ser alocado\n",
    "\n",
    "while a < espaco.size:\n",
    "    # Debug ↓\n",
    "    # print(espaco, espaco[a], processo[b])\n",
    "    if processo[b] <= espaco[a]:\n",
    "        espaco[a] -= processo[b]\n",
    "        a = 0\n",
    "        b += 1\n",
    "        c += 1\n",
    "        if b >= processo.size:\n",
    "            break\n",
    "    elif a == 3 and processo[b] > 0:\n",
    "        print(\"Problema ao alocar:\", processo[b])\n",
    "        print(\"Posição:\", c)\n",
    "        break\n",
    "    else:\n",
    "        a += 1\n",
    "print(\"Alocação final:\", espaco)"
   ]
  },
  {
   "cell_type": "code",
   "execution_count": null,
   "id": "52178170",
   "metadata": {},
   "outputs": [],
   "source": [
    "# Best-Fit\n",
    "\n",
    "# x = espaco, y = processo, z = menor valor do espaco\n",
    "def menorEspaco(x, y, z):\n",
    "    espaco_mask = ma.masked_where(x <= y, x)\n",
    "    # Cria uma máscara do vetor, até o menor valor do vetor criado tenha tamanho suficiente para alocar o processo.\n",
    "    print(espaco_mask, np.min(espaco_mask))\n",
    "    if np.min(espaco_mask) < z:\n",
    "        return menorEspaco(espaco_mask, np.min(espaco_mask), z)\n",
    "    return (espaco_mask)\n",
    "\n",
    "processo = np.array([2, 3, 1, 4, 3, 2, 1])\n",
    "espaco = np.array([4, 4, 4, 4])\n",
    "b = 0 # Navegar pelos processos\n",
    "\n",
    "for a in range (processo.size):\n",
    "    # Debug ↓\n",
    "    # print(espaco, np.min(espaco), processo[a])\n",
    "    if processo[a] <= np.min(espaco):\n",
    "        c = np.argmin(espaco)\n",
    "        espaco[c] -= processo[a]\n",
    "    else:\n",
    "        espaco2 = menorEspaco(espaco, np.min(espaco), processo[a])\n",
    "        c = np.argmin(espaco2)\n",
    "        espaco[c] -= processo[a]\n",
    "    for item in espaco:\n",
    "        if item < 0:\n",
    "            # Caso o primeiro valor do vetor seja negativo, é porque a função\n",
    "            # menorEspaco não conseguiu um valor de tamanho suficiente para alocar o processo\n",
    "            print(\"Erro na alocação de:\", processo[a])\n",
    "            print(\"Posição:\", b)\n",
    "            break\n",
    "    b += 1\n",
    "print(\"Alocação final:\", espaco)"
   ]
  },
  {
   "cell_type": "code",
   "execution_count": null,
   "id": "311f6e58",
   "metadata": {},
   "outputs": [],
   "source": [
    "# Worst-Fit\n",
    "\n",
    "processo = np.array([2, 2, 3, 2, 1, 2, 2, 1, 2])\n",
    "espaco = np.array([4, 4, 4, 4])\n",
    "b = 0 # Navegar pelos processos\n",
    "    \n",
    "for a in range (processo.size):\n",
    "    # Debug ↓\n",
    "    print(espaco, np.max(espaco), processo[a])\n",
    "    if processo[a] <= np.max(espaco):\n",
    "        c = np.argmax(espaco)\n",
    "        espaco[c] -= processo[a]\n",
    "        b += 1\n",
    "    else:\n",
    "        print(\"Erro na alocação de:\", processo[a])\n",
    "        print(\"Posição:\", b)\n",
    "        break\n",
    "print(\"Alocação final:\", espaco)"
   ]
  },
  {
   "cell_type": "code",
   "execution_count": 8,
   "id": "f75dc617",
   "metadata": {},
   "outputs": [
    {
     "name": "stdout",
     "output_type": "stream",
     "text": [
      "[4 4 4 4] 4\n",
      "[3 4 4 4] 4\n",
      "[3 3 4 4] 3\n",
      "[3 2 4 4] 2\n",
      "[3 1 4 4] 1\n"
     ]
    },
    {
     "ename": "IndexError",
     "evalue": "index 4 is out of bounds for axis 0 with size 4",
     "output_type": "error",
     "traceback": [
      "\u001b[1;31m---------------------------------------------------------------------------\u001b[0m",
      "\u001b[1;31mIndexError\u001b[0m                                Traceback (most recent call last)",
      "\u001b[1;32m<ipython-input-8-79811eea498a>\u001b[0m in \u001b[0;36m<module>\u001b[1;34m\u001b[0m\n\u001b[0;32m     10\u001b[0m     \u001b[1;31m# Debug ↓\u001b[0m\u001b[1;33m\u001b[0m\u001b[1;33m\u001b[0m\u001b[1;33m\u001b[0m\u001b[0m\n\u001b[0;32m     11\u001b[0m     \u001b[0mprint\u001b[0m\u001b[1;33m(\u001b[0m\u001b[0mespaco\u001b[0m\u001b[1;33m,\u001b[0m \u001b[0mespaco\u001b[0m\u001b[1;33m[\u001b[0m\u001b[0ma\u001b[0m\u001b[1;33m]\u001b[0m\u001b[1;33m)\u001b[0m\u001b[1;33m\u001b[0m\u001b[1;33m\u001b[0m\u001b[0m\n\u001b[1;32m---> 12\u001b[1;33m     \u001b[1;32mif\u001b[0m \u001b[0mespaco\u001b[0m\u001b[1;33m[\u001b[0m\u001b[0ma\u001b[0m\u001b[1;33m]\u001b[0m \u001b[1;33m>=\u001b[0m \u001b[0mprocesso\u001b[0m\u001b[1;33m[\u001b[0m\u001b[0mb\u001b[0m\u001b[1;33m]\u001b[0m\u001b[1;33m:\u001b[0m\u001b[1;33m\u001b[0m\u001b[1;33m\u001b[0m\u001b[0m\n\u001b[0m\u001b[0;32m     13\u001b[0m         \u001b[0mespaco\u001b[0m\u001b[1;33m[\u001b[0m\u001b[0ma\u001b[0m\u001b[1;33m]\u001b[0m \u001b[1;33m-=\u001b[0m \u001b[0mprocesso\u001b[0m\u001b[1;33m[\u001b[0m\u001b[0mb\u001b[0m\u001b[1;33m]\u001b[0m\u001b[1;33m\u001b[0m\u001b[1;33m\u001b[0m\u001b[0m\n\u001b[0;32m     14\u001b[0m         \u001b[0mb\u001b[0m \u001b[1;33m+=\u001b[0m \u001b[1;36m1\u001b[0m\u001b[1;33m\u001b[0m\u001b[1;33m\u001b[0m\u001b[0m\n",
      "\u001b[1;31mIndexError\u001b[0m: index 4 is out of bounds for axis 0 with size 4"
     ]
    }
   ],
   "source": [
    "# Circular-Fit\n",
    "\n",
    "processo = np.array([1, 1, 1, 1])\n",
    "espaco = np.array([4, 4, 4, 4])\n",
    "a = 0 # Navegar pelo espaço/memória\n",
    "b = 0 # Navegar pelos processos\n",
    "c = 0 # Contador para mostrar posição do processo que teve problema ao ser alocado\n",
    "\n",
    "while a < espaco.size:\n",
    "    # Debug ↓\n",
    "    print(espaco, espaco[a])\n",
    "    if espaco[a] >= processo[b]:\n",
    "        espaco[a] -= processo[b]\n",
    "        b += 1\n",
    "        a = 0\n",
    "    a += 1"
   ]
  },
  {
   "cell_type": "code",
   "execution_count": null,
   "id": "8c50a792",
   "metadata": {
    "scrolled": true
   },
   "outputs": [],
   "source": [
    "# Protótipo Best-Fit\n",
    "\n",
    "espaco = np.array([4, 3, 1, 11])\n",
    "\n",
    "espaco_mask = ma.masked_equal(espaco, np.min(espaco))\n",
    "\n",
    "c = np.argmin(espaco)\n",
    "# display(np.argmin(espaco))\n",
    "print(\"np.min(espaco):\", np.min(espaco))\n",
    "print(\"Posição do menor valor no vetor:\", c)\n",
    "print(\"Tamanho do menor valor de memória:\", espaco[c])\n",
    "\n",
    "def menorEspaco(x, y, z):\n",
    "    espaco_mask = ma.masked_where(x <= y, x)\n",
    "    print(espaco_mask)\n",
    "    print(np.min(espaco_mask))\n",
    "    if np.min(espaco_mask) < z:\n",
    "        return menorEspaco(espaco_mask, np.min(espaco_mask), z)\n",
    "    return (espaco_mask)\n",
    "\n",
    "espaco2 = menorEspaco(espaco, np.min(espaco), 11)\n",
    "print(espaco2, espaco2.size)\n",
    "\n",
    "a = np.argmin(espaco2)\n",
    "print(a)"
   ]
  },
  {
   "cell_type": "code",
   "execution_count": null,
   "id": "ea6f5737",
   "metadata": {},
   "outputs": [],
   "source": [
    "#loop worst-fit\n",
    "maior = espaco[0]\n",
    "print(maior)\n",
    "for x in range(espaco.size-1, -1, -1):\n",
    "    if espaco[x] > maior:\n",
    "        maior = espaco[x]\n",
    "        posicao = x\n",
    "print(maior, posicao)"
   ]
  }
 ],
 "metadata": {
  "interpreter": {
   "hash": "63fd5069d213b44bf678585dea6b12cceca9941eaf7f819626cde1f2670de90d"
  },
  "kernelspec": {
   "display_name": "Python 3",
   "language": "python",
   "name": "python3"
  },
  "language_info": {
   "codemirror_mode": {
    "name": "ipython",
    "version": 3
   },
   "file_extension": ".py",
   "mimetype": "text/x-python",
   "name": "python",
   "nbconvert_exporter": "python",
   "pygments_lexer": "ipython3",
   "version": "3.8.8"
  }
 },
 "nbformat": 4,
 "nbformat_minor": 5
}
